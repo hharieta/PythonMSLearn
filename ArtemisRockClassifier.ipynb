{
 "cells": [
  {
   "cell_type": "code",
   "execution_count": 1,
   "metadata": {},
   "outputs": [
    {
     "name": "stdout",
     "output_type": "stream",
     "text": [
      "Artemis Rover Rock Scanner Starting\n"
     ]
    }
   ],
   "source": [
    "print(\"Artemis Rover Rock Scanner Starting\")"
   ]
  },
  {
   "cell_type": "code",
   "execution_count": 2,
   "metadata": {},
   "outputs": [],
   "source": [
    "# types of rocks\n",
    "basalt = 0\n",
    "breccia = 0\n",
    "highland = 0\n",
    "regolith = 0\n",
    "\n",
    "# list of rocks\n",
    "rocklist = list()\n"
   ]
  },
  {
   "cell_type": "code",
   "execution_count": 4,
   "metadata": {},
   "outputs": [],
   "source": [
    "# create sample file\n",
    "strPath = \"rocks.txt\"\n",
    "fileObject = open(strPath, \"w\")\n",
    "fileObject.writelines([\"Reading Rocks\\n\",\"basalt\\n\",\"breccia\\n\",\"highland\\n\",\"regolith\\n\",\"highland\\n\",\"breccia\\n\",\"highland\\n\",\"regolith\\n\",\"regolith\\n\",\"basalt\\n\",\"highland\\n\",\"basalt\\n\",\"breccia\\n\",\"breccia\\n\",\"regolith\\n\",\"breccia\\n\",\"highland\\n\",\"highland\\n\",\"breccia\\n\",\"basalt\\n\"])\n",
    "fileObject.close()"
   ]
  },
  {
   "cell_type": "code",
   "execution_count": 8,
   "metadata": {},
   "outputs": [
    {
     "name": "stdout",
     "output_type": "stream",
     "text": [
      "Reading Rocks\n",
      "\n"
     ]
    }
   ],
   "source": [
    "# read file\n",
    "fileObject = open(strPath)\n",
    "line = fileObject.readline()\n",
    "print(line)"
   ]
  },
  {
   "cell_type": "code",
   "execution_count": null,
   "metadata": {},
   "outputs": [],
   "source": [
    "# read all lines of file\n",
    "rocklist = fileObject.readlines()\n",
    "\n",
    "for rock in rocklist:\n",
    "    print(rock)\n",
    "\n",
    "fileObject.close()"
   ]
  },
  {
   "cell_type": "code",
   "execution_count": 10,
   "metadata": {},
   "outputs": [],
   "source": [
    "# function to count types of rocks\n",
    "def countMoonRocks(rockToID):\n",
    "    global basalt\n",
    "    global breccia\n",
    "    global highland\n",
    "    global regolith\n",
    "\n",
    "    rockToID = rockToID.lower()\n",
    "\n",
    "    if(\"basalt\" in rockToID):\n",
    "        print(\"Found a basalt\\n\")\n",
    "        basalt += 1\n",
    "    elif(\"breccia\" in rockToID):\n",
    "        print(\"Found a breccia\\n\")\n",
    "        breccia += 1\n",
    "    elif(\"highland\" in rockToID):\n",
    "        print(\"Found a highland\\n\")\n",
    "        highland += 1\n",
    "    elif(\"regolith\" in rockToID):\n",
    "        print(\"Found a regolith\\n\")\n",
    "        regolith += 1\n",
    "    \n",
    "    return\n"
   ]
  },
  {
   "cell_type": "code",
   "execution_count": 11,
   "metadata": {},
   "outputs": [
    {
     "name": "stdout",
     "output_type": "stream",
     "text": [
      "Found a basalt\n",
      "\n",
      "Found a breccia\n",
      "\n",
      "Found a highland\n",
      "\n",
      "Found a regolith\n",
      "\n",
      "Found a highland\n",
      "\n",
      "Found a breccia\n",
      "\n",
      "Found a highland\n",
      "\n",
      "Found a regolith\n",
      "\n",
      "Found a regolith\n",
      "\n",
      "Found a basalt\n",
      "\n",
      "Found a highland\n",
      "\n",
      "Found a basalt\n",
      "\n",
      "Found a breccia\n",
      "\n",
      "Found a breccia\n",
      "\n",
      "Found a regolith\n",
      "\n",
      "Found a breccia\n",
      "\n",
      "Found a highland\n",
      "\n",
      "Found a highland\n",
      "\n",
      "Found a breccia\n",
      "\n",
      "Found a basalt\n",
      "\n"
     ]
    }
   ],
   "source": [
    "# call function\n",
    "for rock in rocklist:\n",
    "    countMoonRocks(rock)\n"
   ]
  },
  {
   "cell_type": "code",
   "execution_count": 12,
   "metadata": {},
   "outputs": [
    {
     "name": "stdout",
     "output_type": "stream",
     "text": [
      "Number of Basalt:  4\n",
      "Number of Breccia:  6\n",
      "Number of Highland:  6\n",
      "Number of Regolith:  4\n"
     ]
    }
   ],
   "source": [
    "# print types of rocks found\n",
    "print(\"Number of Basalt: \", basalt)\n",
    "print(\"Number of Breccia: \", breccia)\n",
    "print(\"Number of Highland: \", highland)\n",
    "print(\"Number of Regolith: \", regolith)"
   ]
  },
  {
   "cell_type": "code",
   "execution_count": 1,
   "metadata": {},
   "outputs": [
    {
     "ename": "NameError",
     "evalue": "name 'basalt' is not defined",
     "output_type": "error",
     "traceback": [
      "\u001b[1;31m---------------------------------------------------------------------------\u001b[0m",
      "\u001b[1;31mNameError\u001b[0m                                 Traceback (most recent call last)",
      "\u001b[1;32mc:\\Users\\vanit\\Documents\\SpaceRockProject\\ArtemisRockClassifier.ipynb Celda 9\u001b[0m in \u001b[0;36m<cell line: 2>\u001b[1;34m()\u001b[0m\n\u001b[0;32m      <a href='vscode-notebook-cell:/c%3A/Users/vanit/Documents/SpaceRockProject/ArtemisRockClassifier.ipynb#ch0000008?line=0'>1</a>\u001b[0m \u001b[39m# print max and min of rocks found\u001b[39;00m\n\u001b[0;32m      <a href='vscode-notebook-cell:/c%3A/Users/vanit/Documents/SpaceRockProject/ArtemisRockClassifier.ipynb#ch0000008?line=1'>2</a>\u001b[0m \u001b[39mprint\u001b[39m(\u001b[39m\"\u001b[39m\u001b[39mThe max number of one type of rock found was: \u001b[39m\u001b[39m\"\u001b[39m, \n\u001b[1;32m----> <a href='vscode-notebook-cell:/c%3A/Users/vanit/Documents/SpaceRockProject/ArtemisRockClassifier.ipynb#ch0000008?line=2'>3</a>\u001b[0m \u001b[39mmax\u001b[39m(basalt, breccia, highland, regolith))\n\u001b[0;32m      <a href='vscode-notebook-cell:/c%3A/Users/vanit/Documents/SpaceRockProject/ArtemisRockClassifier.ipynb#ch0000008?line=3'>4</a>\u001b[0m \u001b[39mprint\u001b[39m(\u001b[39m\"\u001b[39m\u001b[39mThe min number of one type of rock found was: \u001b[39m\u001b[39m\"\u001b[39m,\n\u001b[0;32m      <a href='vscode-notebook-cell:/c%3A/Users/vanit/Documents/SpaceRockProject/ArtemisRockClassifier.ipynb#ch0000008?line=4'>5</a>\u001b[0m \u001b[39mmin\u001b[39m(basalt, breccia, highland, regolith))\n",
      "\u001b[1;31mNameError\u001b[0m: name 'basalt' is not defined"
     ]
    }
   ],
   "source": [
    "# print max and min of rocks found\n",
    "print(\"The max number of one type of rock found was: \", \n",
    "max(basalt, breccia, highland, regolith))\n",
    "print(\"The min number of one type of rock found was: \",\n",
    "min(basalt, breccia, highland, regolith))"
   ]
  }
 ],
 "metadata": {
  "kernelspec": {
   "display_name": "Python 3.9.12 ('env')",
   "language": "python",
   "name": "python3"
  },
  "language_info": {
   "codemirror_mode": {
    "name": "ipython",
    "version": 3
   },
   "file_extension": ".py",
   "mimetype": "text/x-python",
   "name": "python",
   "nbconvert_exporter": "python",
   "pygments_lexer": "ipython3",
   "version": "3.9.12"
  },
  "orig_nbformat": 4,
  "vscode": {
   "interpreter": {
    "hash": "e6c913f430cfe1926a6ea7114169f6c29eea3a01ce5b9e27999417838d098043"
   }
  }
 },
 "nbformat": 4,
 "nbformat_minor": 2
}
